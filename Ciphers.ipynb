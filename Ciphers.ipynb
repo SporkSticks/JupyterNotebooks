{
  "metadata": {
    "kernelspec": {
      "name": "python",
      "display_name": "Python (Pyodide)",
      "language": "python"
    },
    "language_info": {
      "codemirror_mode": {
        "name": "python",
        "version": 3
      },
      "file_extension": ".py",
      "mimetype": "text/x-python",
      "name": "python",
      "nbconvert_exporter": "python",
      "pygments_lexer": "ipython3",
      "version": "3.8"
    }
  },
  "nbformat_minor": 4,
  "nbformat": 4,
  "cells": [
    {
      "cell_type": "markdown",
      "source": "The Pigpen Cipher is a visual cipher used to encode letters using symbols as shown below. The image below is used as a key to identify the symbol used for each letter. For example, the letter 'C' is encoded using the L symbol.",
      "metadata": {}
    },
    {
      "cell_type": "markdown",
      "source": "<div>\n<img src=\"https://upload.wikimedia.org/wikipedia/commons/thumb/3/36/Pigpen_cipher_key.svg/640px-Pigpen_cipher_key.svg.png\" width=\"400\"/>\n</div>\n",
      "metadata": {},
      "attachments": {}
    },
    {
      "cell_type": "markdown",
      "source": "To help explore this further, the embedded webpage below allows you to enter secret messages which are automatically translated to PigPen. Try it out with a message to share with a friend to decrypt! \n\nClick the cell below and hit the play button in the toolbar at the top to load the webpage.",
      "metadata": {}
    },
    {
      "cell_type": "code",
      "source": "import IPython\nurl = \"https://www.boxentriq.com/code-breaking/pigpen-cipher\"\nIPython.display.IFrame(url, width=700, height=500)",
      "metadata": {
        "trusted": true
      },
      "outputs": [
        {
          "execution_count": 8,
          "output_type": "execute_result",
          "data": {
            "text/plain": "<IPython.lib.display.IFrame at 0x2674998>",
            "text/html": "\n        <iframe\n            width=\"700\"\n            height=\"500\"\n            src=\"https://www.boxentriq.com/code-breaking/pigpen-cipher\"\n            frameborder=\"0\"\n            allowfullscreen\n            \n        ></iframe>\n        "
          },
          "metadata": {}
        }
      ],
      "execution_count": 8
    },
    {
      "cell_type": "markdown",
      "source": "Now that you have had a go using the Pigpen cipher, what are its limitations? What does it do well for humans that it may not do well for a computer? (Hint: how easily do you think you could tell a computer to translate a drawing on a Pigpen cipher?)",
      "metadata": {}
    },
    {
      "cell_type": "raw",
      "source": "Q1. What are some of the Pigpen Ciphers Strengths?",
      "metadata": {}
    },
    {
      "cell_type": "raw",
      "source": "\n\n",
      "metadata": {}
    },
    {
      "cell_type": "raw",
      "source": "Q2. What are some of the Pigpen Ciphers Weaknesses?",
      "metadata": {}
    },
    {
      "cell_type": "raw",
      "source": "\n\n",
      "metadata": {}
    },
    {
      "cell_type": "markdown",
      "source": "Now let's try making a simple cipher using only letters and numbers in Python. Earlier you got to use ROT13, an example of a shift cipher (also sometimes called a Caesar Cipher). \n\nThe Python code below is incomplete. Your task is to finish the remaining code, and test and validate your code to ensure it is working correctly.",
      "metadata": {}
    },
    {
      "cell_type": "code",
      "source": "# encrypt will be your shift ciper\ndef encrypt(text,s):\n    result = \"\"\n\n    \"\"\" this code would not be present for students, however they can utilise any formatting they want to handle capitalisation\n    # iterate through input string\n    for i in range(len(text)):\n        char = text[i]\n\n        # Encrypt uppercase characters\n        if (char.isupper()):\n            result += chr((ord(char) + s-65) % 26 + 65)\n\n        # Encrypt lowercase characters\n        else:\n            result += chr((ord(char) + s - 97) % 26 + 97)\n    \"\"\"\n\n    return result\n\n# test your function for errors and correctness \ntext = \"apples and oranges\"\nshift = 4\nprint (\"Text  : \" + text)\nprint (\"Shift : \" + str(shift))\nprint (\"Cipher: \" + encrypt(text,shift))\n",
      "metadata": {
        "trusted": true
      },
      "outputs": [
        {
          "name": "stdout",
          "text": "Text  : apples and oranges\nShift : 4\nCipher: \n",
          "output_type": "stream"
        }
      ],
      "execution_count": 4
    },
    {
      "cell_type": "markdown",
      "source": "Now that you have completed your code, try writing code which will <i>decrypt</i> your message.",
      "metadata": {}
    },
    {
      "cell_type": "code",
      "source": "# decrypt will return encrypted text to its original format!\ndef decrypt(text,s):\n    result = \"\"\n\n    return result\n\n# test your function for errors and correctness\ntext = \"apples and oranges\"\nshift = 4\nprint (\"Text  : \" + text)\nprint (\"Shift : \" + str(shift))\nprint (\"Cipher: \" + decrypt(text,shift))",
      "metadata": {
        "trusted": true
      },
      "outputs": [
        {
          "name": "stdout",
          "text": "Text  : apples and oranges\nShift : 4\nCipher: \n",
          "output_type": "stream"
        }
      ],
      "execution_count": 5
    },
    {
      "cell_type": "code",
      "source": "",
      "metadata": {
        "trusted": true
      },
      "outputs": [],
      "execution_count": null
    }
  ]
}